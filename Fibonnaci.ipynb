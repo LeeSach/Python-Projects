{
 "cells": [
  {
   "cell_type": "code",
   "execution_count": 1,
   "metadata": {},
   "outputs": [],
   "source": [
    "#Fibonacci Sequence - Enter a number and have the program generate the Fibonacci sequence to that number or to the Nth number."
   ]
  },
  {
   "cell_type": "code",
   "execution_count": null,
   "metadata": {},
   "outputs": [],
   "source": [
    "#function is used to validate input by user to make sure it is an interger less than 100\n",
    "def validate_positive_integer():\n",
    "    \n",
    "    while True:\n",
    "        try:\n",
    "            number = int(input('Please enter a number: '))\n",
    "        except:\n",
    "            print ('Please enter a valid number below 100')\n",
    "            continue\n",
    "        else:\n",
    "            if number >100:\n",
    "                print ('Please enter a valid number below 100')\n",
    "                number = int(input('Please enter a number: '))\n",
    "        break\n",
    "    return number\n",
    "                \n",
    "\n",
    "#function makes a set of all values using input from validation function\n",
    "\n",
    "def fib(N):\n",
    "    \n",
    "    n1 = 0\n",
    "    n2= 1\n",
    "    counted = 0\n",
    "    fibonnaci = []\n",
    "    \n",
    "    while counted < N:\n",
    "        fibonnaci.append(n1)\n",
    "        new_number = n1 + n2\n",
    "        n1 = n2\n",
    "        n2 = new_number\n",
    "        counted += 1\n",
    "    return fibonnaci\n",
    "\n",
    "\n",
    "\n",
    "N = validate_positive_integer()\n",
    "\n",
    "\n",
    "\n",
    "fib(N)"
   ]
  },
  {
   "cell_type": "code",
   "execution_count": null,
   "metadata": {},
   "outputs": [],
   "source": [
    "\n"
   ]
  },
  {
   "cell_type": "code",
   "execution_count": null,
   "metadata": {},
   "outputs": [],
   "source": []
  },
  {
   "cell_type": "code",
   "execution_count": null,
   "metadata": {},
   "outputs": [],
   "source": []
  },
  {
   "cell_type": "code",
   "execution_count": null,
   "metadata": {},
   "outputs": [],
   "source": []
  }
 ],
 "metadata": {
  "kernelspec": {
   "display_name": "Python 3",
   "language": "python",
   "name": "python3"
  },
  "language_info": {
   "codemirror_mode": {
    "name": "ipython",
    "version": 3
   },
   "file_extension": ".py",
   "mimetype": "text/x-python",
   "name": "python",
   "nbconvert_exporter": "python",
   "pygments_lexer": "ipython3",
   "version": "3.8.5"
  }
 },
 "nbformat": 4,
 "nbformat_minor": 4
}
