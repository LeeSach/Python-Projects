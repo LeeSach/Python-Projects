{
 "cells": [
  {
   "cell_type": "code",
   "execution_count": null,
   "metadata": {},
   "outputs": [],
   "source": [
    "#Port Scanner - Enter an IP address and a port range where the program will then attempt to find open ports on the given \n",
    "#computer by connecting to each of them. On any successful connections mark the port as open"
   ]
  },
  {
   "cell_type": "code",
   "execution_count": null,
   "metadata": {},
   "outputs": [],
   "source": [
    "import socket\n",
    "import subprocess\n",
    "import sys\n",
    "from datetime import datetime"
   ]
  },
  {
   "cell_type": "code",
   "execution_count": null,
   "metadata": {},
   "outputs": [],
   "source": [
    "def connect_to_ip(ip,port):\n",
    "    try:\n",
    "        sock = socket.socket(socket.AF_INET,socket.SOCK_STREAM)\n",
    "        sock.connect((ip,port))\n",
    "        return sock\n",
    "    except Exception:\n",
    "        return None"
   ]
  },
  {
   "cell_type": "code",
   "execution_count": null,
   "metadata": {},
   "outputs": [],
   "source": [
    "def scan_port(ip,port,timeout):\n",
    "    socket.setdefaulttimeout(timeout)\n",
    "    sock = connect_to_ip(ip, port)\n",
    "    \n",
    "    if sock:\n",
    "        print('Able to connect to:{0}:{1}'.format(ip,port))\n",
    "        sock.close()\n",
    "    else:\n",
    "        print('Not able to connect toto:{0}:{1}'.format(ip,port))"
   ]
  },
  {
   "cell_type": "code",
   "execution_count": null,
   "metadata": {},
   "outputs": [],
   "source": [
    "#get ip/domain from user\n",
    "ip_domain=input('Enter ip or domain: ')\n",
    "if ip_domain == '':\n",
    "    print('You must specify a host')\n",
    "    sys.exit(0)\n",
    "    \n"
   ]
  },
  {
   "cell_type": "code",
   "execution_count": null,
   "metadata": {},
   "outputs": [],
   "source": [
    "#get the port range from user\n",
    "port = input(\"Enter the port range (Ex 20-80): \")\n",
    "if port == '':\n",
    "    print('You must specify a port range!')\n",
    "    sys.exit(0)"
   ]
  },
  {
   "cell_type": "code",
   "execution_count": null,
   "metadata": {},
   "outputs": [],
   "source": [
    "# Optional: Get the timeout from the user\n",
    "timeout = input(\"Timeout (Default=5): \")\n",
    "if not timeout:\n",
    "    timeout = 5\n",
    "\n",
    "port_range = port.split(\"-\")"
   ]
  },
  {
   "cell_type": "code",
   "execution_count": null,
   "metadata": {},
   "outputs": [],
   "source": [
    "#get ip address if host is a domain\n",
    "try:\n",
    "    ip = socket.gethostbyname(ip_domain)\n",
    "except Exception:\n",
    "    print('There is an error resolving domain')\n",
    "    sys.exit(1)\n",
    "    "
   ]
  },
  {
   "cell_type": "code",
   "execution_count": null,
   "metadata": {},
   "outputs": [],
   "source": [
    "# If the user only entered one port we will only scan the one port\n",
    "# otherwise scan the range\n",
    "if len(port_range) < 2:\n",
    "    scan_port(ip, int(port), int(timeout))\n",
    "else:\n",
    "    for port in range(int(port_range[0]), int(port_range[1])+1):\n",
    "        scan_port(ip, int(port), int(timeout))"
   ]
  },
  {
   "cell_type": "code",
   "execution_count": null,
   "metadata": {},
   "outputs": [],
   "source": []
  },
  {
   "cell_type": "code",
   "execution_count": null,
   "metadata": {},
   "outputs": [],
   "source": []
  }
 ],
 "metadata": {
  "kernelspec": {
   "display_name": "Python 3",
   "language": "python",
   "name": "python3"
  },
  "language_info": {
   "codemirror_mode": {
    "name": "ipython",
    "version": 3
   },
   "file_extension": ".py",
   "mimetype": "text/x-python",
   "name": "python",
   "nbconvert_exporter": "python",
   "pygments_lexer": "ipython3",
   "version": "3.8.5"
  }
 },
 "nbformat": 4,
 "nbformat_minor": 4
}
